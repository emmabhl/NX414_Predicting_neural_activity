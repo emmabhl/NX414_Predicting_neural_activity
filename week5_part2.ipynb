{
 "cells": [
  {
   "cell_type": "code",
   "execution_count": 1,
   "id": "27fe4e62-fda1-4377-ad2e-e97d213b2a82",
   "metadata": {},
   "outputs": [
    {
     "name": "stdout",
     "output_type": "stream",
     "text": [
      "Requirement already satisfied: gdown in /opt/conda/lib/python3.7/site-packages (4.7.1)\n",
      "Requirement already satisfied: h5py in /opt/conda/lib/python3.7/site-packages (3.8.0)\n",
      "Requirement already satisfied: requests[socks] in /opt/conda/lib/python3.7/site-packages (from gdown) (2.28.2)\n",
      "Requirement already satisfied: filelock in /opt/conda/lib/python3.7/site-packages (from gdown) (3.11.0)\n",
      "Requirement already satisfied: six in /opt/conda/lib/python3.7/site-packages (from gdown) (1.16.0)\n",
      "Requirement already satisfied: tqdm in /opt/conda/lib/python3.7/site-packages (from gdown) (4.64.1)\n",
      "Requirement already satisfied: beautifulsoup4 in /opt/conda/lib/python3.7/site-packages (from gdown) (4.12.2)\n",
      "Requirement already satisfied: numpy>=1.14.5 in /opt/conda/lib/python3.7/site-packages (from h5py) (1.21.6)\n",
      "Requirement already satisfied: soupsieve>1.2 in /opt/conda/lib/python3.7/site-packages (from beautifulsoup4->gdown) (2.4)\n",
      "Requirement already satisfied: certifi>=2017.4.17 in /opt/conda/lib/python3.7/site-packages (from requests[socks]->gdown) (2022.12.7)\n",
      "Requirement already satisfied: urllib3<1.27,>=1.21.1 in /opt/conda/lib/python3.7/site-packages (from requests[socks]->gdown) (1.26.15)\n",
      "Requirement already satisfied: charset-normalizer<4,>=2 in /opt/conda/lib/python3.7/site-packages (from requests[socks]->gdown) (3.1.0)\n",
      "Requirement already satisfied: idna<4,>=2.5 in /opt/conda/lib/python3.7/site-packages (from requests[socks]->gdown) (3.4)\n",
      "Requirement already satisfied: PySocks!=1.5.7,>=1.5.6 in /opt/conda/lib/python3.7/site-packages (from requests[socks]->gdown) (1.7.1)\n"
     ]
    }
   ],
   "source": [
    "import sys\n",
    "!{sys.executable} -m pip install gdown h5py"
   ]
  },
  {
   "cell_type": "code",
   "execution_count": 2,
   "id": "bf16f621-ec0d-41e7-95b1-a7218562f38b",
   "metadata": {},
   "outputs": [
    {
     "name": "stderr",
     "output_type": "stream",
     "text": [
      "Downloading...\n",
      "From (uriginal): https://drive.google.com/uc?id=1s6caFNRpyR9m7ZM6XEv_e8mcXT3_PnHS\n",
      "From (redirected): https://drive.google.com/uc?id=1s6caFNRpyR9m7ZM6XEv_e8mcXT3_PnHS&confirm=t&uuid=c76db502-df83-40e0-9fc7-b9b7ce0e5c17\n",
      "To: /home/jupyter/IT_data.h5\n",
      "100%|██████████| 384M/384M [00:13<00:00, 29.4MB/s] \n"
     ]
    },
    {
     "data": {
      "text/plain": [
       "'IT_data.h5'"
      ]
     },
     "execution_count": 2,
     "metadata": {},
     "output_type": "execute_result"
    }
   ],
   "source": [
    "from utils import load_it_data, visualize_img\n",
    "import matplotlib.pyplot as plt\n",
    "import numpy as np\n",
    "import gdown\n",
    "url = \"https://drive.google.com/file/d/1s6caFNRpyR9m7ZM6XEv_e8mcXT3_PnHS/view?usp=share_link\"\n",
    "output = \"IT_data.h5\"\n",
    "gdown.download(url, output, quiet=False, fuzzy=True)"
   ]
  },
  {
   "cell_type": "code",
   "execution_count": 3,
   "id": "a7a034ae-3770-40f8-b9f6-ddb2769db816",
   "metadata": {},
   "outputs": [],
   "source": [
    "from utils import load_it_data, visualize_img\n",
    "import matplotlib.pyplot as plt\n",
    "import numpy as np\n",
    "from sklearn.decomposition import PCA\n",
    "from sklearn.linear_model import LinearRegression, Ridge\n",
    "from sklearn.metrics import explained_variance_score, r2_score\n",
    "from sklearn.preprocessing import StandardScaler\n",
    "from sklearn.model_selection import cross_val_score\n",
    "import torch\n",
    "from torch import Tensor\n",
    "from torchvision.models import ResNet, resnet50, ResNet50_Weights\n",
    "import pickle\n",
    "import gc\n",
    "from tqdm import tqdm\n",
    "import pandas as pd"
   ]
  },
  {
   "cell_type": "code",
   "execution_count": 4,
   "id": "d79b99b3-fc02-4c70-bd00-023be24537d9",
   "metadata": {},
   "outputs": [],
   "source": [
    "path_to_data = '' ## Insert the folder where the data is, if you download in the same folder as this notebook then leave it blank\n",
    "\n",
    "stimulus_train, _, _, _, _, _, spikes_train, _ = load_it_data(path_to_data)\n",
    "layers = [\"conv1\", \"layer1\", \"layer2\", \"layer3\", \"layer4\", \"avgpool\"]"
   ]
  },
  {
   "cell_type": "code",
   "execution_count": 5,
   "id": "e5c4f6cd-e7cb-4018-a364-84f9393cd7a6",
   "metadata": {},
   "outputs": [],
   "source": [
    "def apply_PCA(activations, n_components = 1000) :\n",
    "    \"\"\"apply PCA on the activations of a layer\n",
    "\n",
    "    Args:\n",
    "        layer_file (string): name of the layer where the activations data are extracted\n",
    "        n_components (int): number of components we want to keep\n",
    "\n",
    "    Returns:\n",
    "        activations: computed PC from the activations\n",
    "    \"\"\"\n",
    "    pca = PCA(n_components=n_components)\n",
    "    pca.fit(activations)\n",
    "    activations = pca.transform(activations)\n",
    "    return activations"
   ]
  },
  {
   "cell_type": "code",
   "execution_count": 14,
   "id": "26d1eeb6",
   "metadata": {},
   "outputs": [],
   "source": [
    "def extract_activation(self, stimuli: Tensor) :\n",
    "    \"\"\"extract the activations of the model for the given stimuli and layer\n",
    "\n",
    "    Args:\n",
    "        model (model): model we want to extract the activations from\n",
    "        stimuli (ndarray): input data of the processed image's pixels\n",
    "\n",
    "    Returns:\n",
    "        dict: dictionary containing the activations for each layer of the model\n",
    "    \"\"\"    \n",
    "    activations = []\n",
    "    for x in tqdm(stimuli) : \n",
    "        x = self.conv1(x.unsqueeze(0))\n",
    "        activations.append(torch.flatten(x.squeeze(0)).detach().numpy())\n",
    "    with open('conv1.pkl','wb') as f:\n",
    "        pickle.dump(apply_PCA(activations), f)\n",
    "    \n",
    "    input_ = activations\n",
    "    activations = []\n",
    "    for x in tqdm(input_) :\n",
    "        x = self.bn1(x.unsqueeze(0))\n",
    "        x = self.relu(x)\n",
    "        x = self.maxpool(x)\n",
    "        \n",
    "        x = self.layer1(x)\n",
    "        activations.append(torch.flatten(x.squeeze(0)).detach().numpy())\n",
    "    with open('layer1.pkl','wb') as f:\n",
    "        pickle.dump(apply_PCA(activations), f)\n",
    "    \n",
    "    activations = []\n",
    "    for x in tqdm(stimuli) :\n",
    "        x = self.layer2(x.unsqueeze(0))\n",
    "        activations.append(torch.flatten(x.squeeze(0)).detach().numpy())\n",
    "    with open('layer2.pkl','wb') as f:\n",
    "        pickle.dump(apply_PCA(activations), f)    \n",
    "\n",
    "    input_ = activations\n",
    "    activations = []\n",
    "    for x in tqdm(input_) :\n",
    "        x = self.layer3(x.unsqueeze(0))\n",
    "        activations.append(torch.flatten(x.squeeze(0)).detach().numpy())\n",
    "    with open('layer3.pkl','wb') as f:\n",
    "        pickle.dump(apply_PCA(activations), f)\n",
    "    \n",
    "    input_ = activations\n",
    "    activations = []\n",
    "    for x in tqdm(input_) :\n",
    "        x = self.layer4(x.unsqueeze(0))\n",
    "        activations.append(torch.flatten(x.squeeze(0)).detach().numpy())\n",
    "    with open('layer4.pkl','wb') as f:\n",
    "        pickle.dump(apply_PCA(activations), f)\n",
    "    \n",
    "    input_ = activations\n",
    "    activations = []\n",
    "    for x in tqdm(input_) :\n",
    "        x = self.avgpool(x.unsqueeze(0))\n",
    "        activations.append(torch.flatten(x.squeeze(0)).detach().numpy())\n",
    "    with open('avgpool.pkl','wb') as f:\n",
    "        pickle.dump(apply_PCA(activations), f)\n",
    "        \n",
    "ResNet.extract_activation = extract_activation"
   ]
  },
  {
   "cell_type": "code",
   "execution_count": 15,
   "id": "7ed9e687-92aa-4fd6-ae49-cfb77bc8a328",
   "metadata": {},
   "outputs": [
    {
     "name": "stderr",
     "output_type": "stream",
     "text": [
      "/opt/conda/lib/python3.7/site-packages/ipykernel_launcher.py:2: UserWarning: To copy construct from a tensor, it is recommended to use sourceTensor.clone().detach() or sourceTensor.clone().detach().requires_grad_(True), rather than torch.tensor(sourceTensor).\n",
      "  \n"
     ]
    },
    {
     "name": "stdout",
     "output_type": "stream",
     "text": [
      "\n"
     ]
    }
   ],
   "source": [
    "# load the pre-trained ResNet50 model\n",
    "stimulus_train = torch.tensor(stimulus_train)\n",
    "model = resnet50(weights=ResNet50_Weights.DEFAULT) # include_top = False?\n",
    "model.eval()\n",
    "print()"
   ]
  },
  {
   "cell_type": "code",
   "execution_count": 16,
   "id": "1f3aba99-dba9-4912-9a60-f567e43fc5be",
   "metadata": {},
   "outputs": [
    {
     "data": {
      "text/plain": [
       "'preprocess = weights.transforms()\\nimg_transformed = preprocess(stimuli)\\n'"
      ]
     },
     "execution_count": 16,
     "metadata": {},
     "output_type": "execute_result"
    }
   ],
   "source": [
    "#Preprocess the stimuli (already done)\n",
    "\"\"\"preprocess = weights.transforms()\n",
    "img_transformed = preprocess(stimuli)\n",
    "\"\"\""
   ]
  },
  {
   "cell_type": "code",
   "execution_count": 17,
   "id": "7f8081d9-d215-43b8-b67d-b4af94cf02e5",
   "metadata": {},
   "outputs": [
    {
     "name": "stderr",
     "output_type": "stream",
     "text": [
      "100%|██████████| 2592/2592 [00:01<00:00, 1548.77it/s]\n",
      "  0%|          | 0/2592 [00:00<?, ?it/s]\n"
     ]
    },
    {
     "ename": "AttributeError",
     "evalue": "'numpy.ndarray' object has no attribute 'unsqueeze'",
     "output_type": "error",
     "traceback": [
      "\u001b[0;31m---------------------------------------------------------------------------\u001b[0m",
      "\u001b[0;31mAttributeError\u001b[0m                            Traceback (most recent call last)",
      "\u001b[0;32m/var/tmp/ipykernel_3207/368174715.py\u001b[0m in \u001b[0;36m<module>\u001b[0;34m\u001b[0m\n\u001b[1;32m      1\u001b[0m \u001b[0;31m# extract the activations of the layers and apply PCA on each layer to store the first 1000PCs\u001b[0m\u001b[0;34m\u001b[0m\u001b[0;34m\u001b[0m\u001b[0;34m\u001b[0m\u001b[0m\n\u001b[0;32m----> 2\u001b[0;31m \u001b[0mmodel\u001b[0m\u001b[0;34m.\u001b[0m\u001b[0mextract_activation\u001b[0m\u001b[0;34m(\u001b[0m\u001b[0mstimulus_train\u001b[0m\u001b[0;34m)\u001b[0m\u001b[0;34m\u001b[0m\u001b[0;34m\u001b[0m\u001b[0m\n\u001b[0m",
      "\u001b[0;32m/var/tmp/ipykernel_3207/4014807184.py\u001b[0m in \u001b[0;36mextract_activation\u001b[0;34m(self, stimuli)\u001b[0m\n\u001b[1;32m     19\u001b[0m     \u001b[0mactivations\u001b[0m \u001b[0;34m=\u001b[0m \u001b[0;34m[\u001b[0m\u001b[0;34m]\u001b[0m\u001b[0;34m\u001b[0m\u001b[0;34m\u001b[0m\u001b[0m\n\u001b[1;32m     20\u001b[0m     \u001b[0;32mfor\u001b[0m \u001b[0mx\u001b[0m \u001b[0;32min\u001b[0m \u001b[0mtqdm\u001b[0m\u001b[0;34m(\u001b[0m\u001b[0minput_\u001b[0m\u001b[0;34m)\u001b[0m \u001b[0;34m:\u001b[0m\u001b[0;34m\u001b[0m\u001b[0;34m\u001b[0m\u001b[0m\n\u001b[0;32m---> 21\u001b[0;31m         \u001b[0mx\u001b[0m \u001b[0;34m=\u001b[0m \u001b[0mself\u001b[0m\u001b[0;34m.\u001b[0m\u001b[0mbn1\u001b[0m\u001b[0;34m(\u001b[0m\u001b[0mx\u001b[0m\u001b[0;34m.\u001b[0m\u001b[0munsqueeze\u001b[0m\u001b[0;34m(\u001b[0m\u001b[0;36m0\u001b[0m\u001b[0;34m)\u001b[0m\u001b[0;34m)\u001b[0m\u001b[0;34m\u001b[0m\u001b[0;34m\u001b[0m\u001b[0m\n\u001b[0m\u001b[1;32m     22\u001b[0m         \u001b[0mx\u001b[0m \u001b[0;34m=\u001b[0m \u001b[0mself\u001b[0m\u001b[0;34m.\u001b[0m\u001b[0mrelu\u001b[0m\u001b[0;34m(\u001b[0m\u001b[0mx\u001b[0m\u001b[0;34m)\u001b[0m\u001b[0;34m\u001b[0m\u001b[0;34m\u001b[0m\u001b[0m\n\u001b[1;32m     23\u001b[0m         \u001b[0mx\u001b[0m \u001b[0;34m=\u001b[0m \u001b[0mself\u001b[0m\u001b[0;34m.\u001b[0m\u001b[0mmaxpool\u001b[0m\u001b[0;34m(\u001b[0m\u001b[0mx\u001b[0m\u001b[0;34m)\u001b[0m\u001b[0;34m\u001b[0m\u001b[0;34m\u001b[0m\u001b[0m\n",
      "\u001b[0;31mAttributeError\u001b[0m: 'numpy.ndarray' object has no attribute 'unsqueeze'"
     ]
    }
   ],
   "source": [
    "# extract the activations of the layers and apply PCA on each layer to store the first 1000PCs\n",
    "model.extract_activation(stimulus_train)"
   ]
  },
  {
   "cell_type": "code",
   "execution_count": null,
   "id": "5078f6b4-8339-4cce-980e-6ae1f7b92fff",
   "metadata": {},
   "outputs": [],
   "source": []
  }
 ],
 "metadata": {
  "environment": {
   "kernel": "python3",
   "name": "pytorch-gpu.1-13.m107",
   "type": "gcloud",
   "uri": "gcr.io/deeplearning-platform-release/pytorch-gpu.1-13:m107"
  },
  "kernelspec": {
   "display_name": "Python 3",
   "language": "python",
   "name": "python3"
  },
  "language_info": {
   "codemirror_mode": {
    "name": "ipython",
    "version": 3
   },
   "file_extension": ".py",
   "mimetype": "text/x-python",
   "name": "python",
   "nbconvert_exporter": "python",
   "pygments_lexer": "ipython3",
   "version": "3.7.12"
  }
 },
 "nbformat": 4,
 "nbformat_minor": 5
}
